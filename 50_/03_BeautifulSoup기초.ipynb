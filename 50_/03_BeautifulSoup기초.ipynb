{
 "cells": [
  {
   "cell_type": "markdown",
   "metadata": {},
   "source": [
    "# 3. BeautifulSoup 기초\n",
    "* HTML과 XML 문서를 파싱하기 위한 파이썬 패키지\n",
    "* 대표페이지 소개 https://www.crummy.com/software/BeautifulSoup/bs4/doc/"
   ]
  },
  {
   "cell_type": "code",
   "execution_count": 1,
   "metadata": {},
   "outputs": [],
   "source": [
    "import requests\n",
    "from bs4 import BeautifulSoup"
   ]
  },
  {
   "cell_type": "code",
   "execution_count": 2,
   "metadata": {},
   "outputs": [],
   "source": [
    "# conda install bs4\n",
    "# pip install bs4"
   ]
  },
  {
   "cell_type": "code",
   "execution_count": 3,
   "metadata": {},
   "outputs": [],
   "source": [
    "html_doc = \"\"\"\n",
    "<html>\n",
    "<head>\n",
    "<title>My Script</title>\n",
    "</head>\n",
    "<body>\n",
    "<p class=\"title\">My Study</p>\n",
    "<p class=\"story\">내가 솔랭에서 하는 챔프\n",
    "<a href=\"https://namu.wiki/w/샤코(리그%20오브%20레전드)\" class=\"champ\" id=\"link1\">샤코</a>\n",
    "<a href=\"https://namu.wiki/w/뽀삐(리그%20오브%20레전드)\" class=\"champ\" id=\"link2\">뽀삐</a>\n",
    "<a href=\"https://namu.wiki/w/트런들(리그%20오브%20레전드)\" class=\"champ\" id=\"link3\">트런들</a>\n",
    "</p>\n",
    "</body>\n",
    "</html>\n",
    "\"\"\""
   ]
  },
  {
   "cell_type": "code",
   "execution_count": 4,
   "metadata": {},
   "outputs": [
    {
     "data": {
      "text/plain": [
       "\n",
       "<html>\n",
       "<head>\n",
       "<title>My Script</title>\n",
       "</head>\n",
       "<body>\n",
       "<p class=\"title\">My Study</p>\n",
       "<p class=\"story\">내가 솔랭에서 하는 챔프\n",
       "<a class=\"champ\" href=\"https://namu.wiki/w/샤코(리그%20오브%20레전드)\" id=\"link1\">샤코</a>\n",
       "<a class=\"champ\" href=\"https://namu.wiki/w/뽀삐(리그%20오브%20레전드)\" id=\"link2\">뽀삐</a>\n",
       "<a class=\"champ\" href=\"https://namu.wiki/w/트런들(리그%20오브%20레전드)\" id=\"link3\">트런들</a>\n",
       "</p>\n",
       "</body>\n",
       "</html>"
      ]
     },
     "execution_count": 4,
     "metadata": {},
     "output_type": "execute_result"
    }
   ],
   "source": [
    "soup = BeautifulSoup(html_doc,'html.parser') # lxml, html5lib -> 추가설치 필요\n",
    "soup"
   ]
  },
  {
   "cell_type": "code",
   "execution_count": 5,
   "metadata": {},
   "outputs": [
    {
     "data": {
      "text/plain": [
       "bs4.BeautifulSoup"
      ]
     },
     "execution_count": 5,
     "metadata": {},
     "output_type": "execute_result"
    }
   ],
   "source": [
    "type(soup)"
   ]
  },
  {
   "cell_type": "code",
   "execution_count": 6,
   "metadata": {},
   "outputs": [
    {
     "name": "stdout",
     "output_type": "stream",
     "text": [
      "<html>\n",
      " <head>\n",
      "  <title>\n",
      "   My Script\n",
      "  </title>\n",
      " </head>\n",
      " <body>\n",
      "  <p class=\"title\">\n",
      "   My Study\n",
      "  </p>\n",
      "  <p class=\"story\">\n",
      "   내가 솔랭에서 하는 챔프\n",
      "   <a class=\"champ\" href=\"https://namu.wiki/w/샤코(리그%20오브%20레전드)\" id=\"link1\">\n",
      "    샤코\n",
      "   </a>\n",
      "   <a class=\"champ\" href=\"https://namu.wiki/w/뽀삐(리그%20오브%20레전드)\" id=\"link2\">\n",
      "    뽀삐\n",
      "   </a>\n",
      "   <a class=\"champ\" href=\"https://namu.wiki/w/트런들(리그%20오브%20레전드)\" id=\"link3\">\n",
      "    트런들\n",
      "   </a>\n",
      "  </p>\n",
      " </body>\n",
      "</html>\n",
      "\n"
     ]
    }
   ],
   "source": [
    "print(soup.prettify())"
   ]
  },
  {
   "cell_type": "markdown",
   "metadata": {},
   "source": [
    "## find함수\n",
    "* 조건에 맞는 첫번째 tag만 검색\n"
   ]
  },
  {
   "cell_type": "code",
   "execution_count": 7,
   "metadata": {},
   "outputs": [
    {
     "data": {
      "text/plain": [
       "<p class=\"title\">My Study</p>"
      ]
     },
     "execution_count": 7,
     "metadata": {},
     "output_type": "execute_result"
    }
   ],
   "source": [
    "soup.find('p')"
   ]
  },
  {
   "cell_type": "code",
   "execution_count": 8,
   "metadata": {},
   "outputs": [
    {
     "data": {
      "text/plain": [
       "<a class=\"champ\" href=\"https://namu.wiki/w/뽀삐(리그%20오브%20레전드)\" id=\"link2\">뽀삐</a>"
      ]
     },
     "execution_count": 8,
     "metadata": {},
     "output_type": "execute_result"
    }
   ],
   "source": [
    "soup.find('a',id='link2')"
   ]
  },
  {
   "cell_type": "code",
   "execution_count": 9,
   "metadata": {},
   "outputs": [
    {
     "data": {
      "text/plain": [
       "<a class=\"champ\" href=\"https://namu.wiki/w/샤코(리그%20오브%20레전드)\" id=\"link1\">샤코</a>"
      ]
     },
     "execution_count": 9,
     "metadata": {},
     "output_type": "execute_result"
    }
   ],
   "source": [
    "soup.find('a',id='link1')"
   ]
  },
  {
   "cell_type": "code",
   "execution_count": 10,
   "metadata": {},
   "outputs": [
    {
     "data": {
      "text/plain": [
       "<a class=\"champ\" href=\"https://namu.wiki/w/뽀삐(리그%20오브%20레전드)\" id=\"link2\">뽀삐</a>"
      ]
     },
     "execution_count": 10,
     "metadata": {},
     "output_type": "execute_result"
    }
   ],
   "source": [
    "soup.find(id='link2')"
   ]
  },
  {
   "cell_type": "code",
   "execution_count": 11,
   "metadata": {},
   "outputs": [
    {
     "data": {
      "text/plain": [
       "<a class=\"champ\" href=\"https://namu.wiki/w/트런들(리그%20오브%20레전드)\" id=\"link3\">트런들</a>"
      ]
     },
     "execution_count": 11,
     "metadata": {},
     "output_type": "execute_result"
    }
   ],
   "source": [
    "soup.find('a',class_='champ',id='link3')"
   ]
  },
  {
   "cell_type": "code",
   "execution_count": 12,
   "metadata": {},
   "outputs": [
    {
     "data": {
      "text/plain": [
       "<a class=\"champ\" href=\"https://namu.wiki/w/트런들(리그%20오브%20레전드)\" id=\"link3\">트런들</a>"
      ]
     },
     "execution_count": 12,
     "metadata": {},
     "output_type": "execute_result"
    }
   ],
   "source": [
    "attrs = {\n",
    "    'class':'champ',\n",
    "    'id':'link3'\n",
    "}\n",
    "soup.find('a',attrs=attrs)"
   ]
  },
  {
   "cell_type": "markdown",
   "metadata": {},
   "source": [
    "### find_all 함수\n",
    "* 조건에 맞는 모든 tag를 리스트로 반환"
   ]
  },
  {
   "cell_type": "code",
   "execution_count": 13,
   "metadata": {},
   "outputs": [
    {
     "data": {
      "text/plain": [
       "[<p class=\"title\">My Study</p>,\n",
       " <p class=\"story\">내가 솔랭에서 하는 챔프\n",
       " <a class=\"champ\" href=\"https://namu.wiki/w/샤코(리그%20오브%20레전드)\" id=\"link1\">샤코</a>\n",
       " <a class=\"champ\" href=\"https://namu.wiki/w/뽀삐(리그%20오브%20레전드)\" id=\"link2\">뽀삐</a>\n",
       " <a class=\"champ\" href=\"https://namu.wiki/w/트런들(리그%20오브%20레전드)\" id=\"link3\">트런들</a>\n",
       " </p>]"
      ]
     },
     "execution_count": 13,
     "metadata": {},
     "output_type": "execute_result"
    }
   ],
   "source": [
    "soup.find_all('p')"
   ]
  },
  {
   "cell_type": "code",
   "execution_count": 14,
   "metadata": {},
   "outputs": [
    {
     "name": "stdout",
     "output_type": "stream",
     "text": [
      "<a class=\"champ\" href=\"https://namu.wiki/w/샤코(리그%20오브%20레전드)\" id=\"link1\">샤코</a>\n",
      "<a class=\"champ\" href=\"https://namu.wiki/w/뽀삐(리그%20오브%20레전드)\" id=\"link2\">뽀삐</a>\n",
      "<a class=\"champ\" href=\"https://namu.wiki/w/트런들(리그%20오브%20레전드)\" id=\"link3\">트런들</a>\n"
     ]
    }
   ],
   "source": [
    "p = soup.find_all('a')\n",
    "for x in p:\n",
    "    print(x)"
   ]
  },
  {
   "cell_type": "markdown",
   "metadata": {},
   "source": [
    "### get_text 함수\n",
    "* tag안의 value를 추출\n",
    "* 부모 tag의 경우 모든 자식 tag의 value 추출"
   ]
  },
  {
   "cell_type": "code",
   "execution_count": 15,
   "metadata": {},
   "outputs": [
    {
     "data": {
      "text/plain": [
       "'\\n\\n\\nMy Script\\n\\n\\nMy Study\\n내가 솔랭에서 하는 챔프\\n샤코\\n뽀삐\\n트런들\\n\\n\\n\\n'"
      ]
     },
     "execution_count": 15,
     "metadata": {},
     "output_type": "execute_result"
    }
   ],
   "source": [
    "soup.get_text()"
   ]
  },
  {
   "cell_type": "code",
   "execution_count": 16,
   "metadata": {},
   "outputs": [
    {
     "data": {
      "text/plain": [
       "'My Study'"
      ]
     },
     "execution_count": 16,
     "metadata": {},
     "output_type": "execute_result"
    }
   ],
   "source": [
    "soup.find('p',class_=\"title\").get_text()"
   ]
  },
  {
   "cell_type": "code",
   "execution_count": 17,
   "metadata": {},
   "outputs": [
    {
     "data": {
      "text/plain": [
       "'My Study'"
      ]
     },
     "execution_count": 17,
     "metadata": {},
     "output_type": "execute_result"
    }
   ],
   "source": [
    "soup.find('p').get_text()"
   ]
  },
  {
   "cell_type": "code",
   "execution_count": 26,
   "metadata": {},
   "outputs": [
    {
     "name": "stdout",
     "output_type": "stream",
     "text": [
      "샤코\n",
      "뽀삐\n",
      "트런들\n"
     ]
    }
   ],
   "source": [
    "for i in soup.find_all(class_=\"champ\"):\n",
    "    print(i.get_text())"
   ]
  },
  {
   "cell_type": "markdown",
   "metadata": {},
   "source": [
    "### attribute값 추출하기\n",
    "* 검색한 tag에서 attribute값을 추출\n",
    "* tag['attr명']"
   ]
  },
  {
   "cell_type": "code",
   "execution_count": 31,
   "metadata": {},
   "outputs": [
    {
     "data": {
      "text/plain": [
       "{'class': ['title']}"
      ]
     },
     "execution_count": 31,
     "metadata": {},
     "output_type": "execute_result"
    }
   ],
   "source": [
    "soup.find('p').attrs"
   ]
  },
  {
   "cell_type": "code",
   "execution_count": 33,
   "metadata": {},
   "outputs": [
    {
     "data": {
      "text/plain": [
       "['title']"
      ]
     },
     "execution_count": 33,
     "metadata": {},
     "output_type": "execute_result"
    }
   ],
   "source": [
    "soup.find('p')['class']"
   ]
  },
  {
   "cell_type": "code",
   "execution_count": 40,
   "metadata": {},
   "outputs": [
    {
     "name": "stdout",
     "output_type": "stream",
     "text": [
      "https://namu.wiki/w/샤코(리그%20오브%20레전드) link1\n",
      "https://namu.wiki/w/뽀삐(리그%20오브%20레전드) link2\n",
      "https://namu.wiki/w/트런들(리그%20오브%20레전드) link3\n"
     ]
    }
   ],
   "source": [
    "for i in soup.find_all('a'):\n",
    "    print(i['href'],i['id'])"
   ]
  },
  {
   "cell_type": "markdown",
   "metadata": {},
   "source": [
    "### select 함수\n",
    "* select는 CSS Selector로 tag 찾기가 가능하다.\n",
    "* 자손태그 찾기 - tag1 tag2\n",
    "* 직계자손태그 찾기 - tag1 > tag2\n",
    "* id 선택자 - #id\n",
    "* class 선택자 - .class\n",
    "* 속성값 찾기 - [name=\"val\"]\n",
    "    * 속성값 prefix 찾기 [name^=\"val\"]\n",
    "    * 속성값 suffix 찾기 [name$=\"val\"]\n",
    "    * 속성값 포함문자열 찾기 [name*=\"val\"]\n",
    "    \n"
   ]
  },
  {
   "cell_type": "code",
   "execution_count": 41,
   "metadata": {},
   "outputs": [
    {
     "name": "stdout",
     "output_type": "stream",
     "text": [
      "<html>\n",
      " <head>\n",
      "  <title>\n",
      "   My Script\n",
      "  </title>\n",
      " </head>\n",
      " <body>\n",
      "  <p class=\"title\">\n",
      "   My Study\n",
      "  </p>\n",
      "  <p class=\"story\">\n",
      "   내가 솔랭에서 하는 챔프\n",
      "   <a class=\"champ\" href=\"https://namu.wiki/w/샤코(리그%20오브%20레전드)\" id=\"link1\">\n",
      "    샤코\n",
      "   </a>\n",
      "   <a class=\"champ\" href=\"https://namu.wiki/w/뽀삐(리그%20오브%20레전드)\" id=\"link2\">\n",
      "    뽀삐\n",
      "   </a>\n",
      "   <a class=\"champ\" href=\"https://namu.wiki/w/트런들(리그%20오브%20레전드)\" id=\"link3\">\n",
      "    트런들\n",
      "   </a>\n",
      "  </p>\n",
      " </body>\n",
      "</html>\n",
      "\n"
     ]
    }
   ],
   "source": [
    "print(soup.prettify())"
   ]
  },
  {
   "cell_type": "code",
   "execution_count": 42,
   "metadata": {},
   "outputs": [
    {
     "data": {
      "text/plain": [
       "[<p class=\"title\">My Study</p>,\n",
       " <p class=\"story\">내가 솔랭에서 하는 챔프\n",
       " <a class=\"champ\" href=\"https://namu.wiki/w/샤코(리그%20오브%20레전드)\" id=\"link1\">샤코</a>\n",
       " <a class=\"champ\" href=\"https://namu.wiki/w/뽀삐(리그%20오브%20레전드)\" id=\"link2\">뽀삐</a>\n",
       " <a class=\"champ\" href=\"https://namu.wiki/w/트런들(리그%20오브%20레전드)\" id=\"link3\">트런들</a>\n",
       " </p>]"
      ]
     },
     "execution_count": 42,
     "metadata": {},
     "output_type": "execute_result"
    }
   ],
   "source": [
    "soup.select('p')"
   ]
  },
  {
   "cell_type": "code",
   "execution_count": 43,
   "metadata": {},
   "outputs": [
    {
     "data": {
      "text/plain": [
       "<p class=\"title\">My Study</p>"
      ]
     },
     "execution_count": 43,
     "metadata": {},
     "output_type": "execute_result"
    }
   ],
   "source": [
    "soup.select_one('p')"
   ]
  },
  {
   "cell_type": "code",
   "execution_count": 45,
   "metadata": {},
   "outputs": [
    {
     "data": {
      "text/plain": [
       "[<title>My Script</title>]"
      ]
     },
     "execution_count": 45,
     "metadata": {},
     "output_type": "execute_result"
    }
   ],
   "source": [
    "# 자손 태그\n",
    "soup.select('html title')"
   ]
  },
  {
   "cell_type": "code",
   "execution_count": 48,
   "metadata": {},
   "outputs": [
    {
     "data": {
      "text/plain": [
       "[]"
      ]
     },
     "execution_count": 48,
     "metadata": {},
     "output_type": "execute_result"
    }
   ],
   "source": [
    "# 직계 자식 태그\n",
    "soup.select('head > title')\n",
    "soup.select('html > title')"
   ]
  },
  {
   "cell_type": "code",
   "execution_count": 51,
   "metadata": {},
   "outputs": [
    {
     "data": {
      "text/plain": [
       "[<a class=\"champ\" href=\"https://namu.wiki/w/트런들(리그%20오브%20레전드)\" id=\"link3\">트런들</a>]"
      ]
     },
     "execution_count": 51,
     "metadata": {},
     "output_type": "execute_result"
    }
   ],
   "source": [
    "# id 선택자\n",
    "soup.select('a#link3')"
   ]
  },
  {
   "cell_type": "code",
   "execution_count": 52,
   "metadata": {},
   "outputs": [],
   "source": [
    "# class 선택자"
   ]
  },
  {
   "cell_type": "code",
   "execution_count": 55,
   "metadata": {},
   "outputs": [
    {
     "data": {
      "text/plain": [
       "[<p class=\"title\">My Study</p>]"
      ]
     },
     "execution_count": 55,
     "metadata": {},
     "output_type": "execute_result"
    }
   ],
   "source": [
    "soup.select('.title')"
   ]
  },
  {
   "cell_type": "code",
   "execution_count": 57,
   "metadata": {},
   "outputs": [
    {
     "data": {
      "text/plain": [
       "[<p class=\"story\">내가 솔랭에서 하는 챔프\n",
       " <a class=\"champ\" href=\"https://namu.wiki/w/샤코(리그%20오브%20레전드)\" id=\"link1\">샤코</a>\n",
       " <a class=\"champ\" href=\"https://namu.wiki/w/뽀삐(리그%20오브%20레전드)\" id=\"link2\">뽀삐</a>\n",
       " <a class=\"champ\" href=\"https://namu.wiki/w/트런들(리그%20오브%20레전드)\" id=\"link3\">트런들</a>\n",
       " </p>]"
      ]
     },
     "execution_count": 57,
     "metadata": {},
     "output_type": "execute_result"
    }
   ],
   "source": [
    "soup.select('.story')"
   ]
  },
  {
   "cell_type": "code",
   "execution_count": 58,
   "metadata": {},
   "outputs": [
    {
     "data": {
      "text/plain": [
       "[]"
      ]
     },
     "execution_count": 58,
     "metadata": {},
     "output_type": "execute_result"
    }
   ],
   "source": [
    "soup.select('.food')"
   ]
  },
  {
   "cell_type": "code",
   "execution_count": 59,
   "metadata": {},
   "outputs": [
    {
     "data": {
      "text/plain": [
       "[<a class=\"champ\" href=\"https://namu.wiki/w/샤코(리그%20오브%20레전드)\" id=\"link1\">샤코</a>]"
      ]
     },
     "execution_count": 59,
     "metadata": {},
     "output_type": "execute_result"
    }
   ],
   "source": [
    "# 속성값 찾기\n",
    "soup.select('[href=\"https://namu.wiki/w/샤코(리그%20오브%20레전드)\"]')"
   ]
  },
  {
   "cell_type": "code",
   "execution_count": 63,
   "metadata": {},
   "outputs": [
    {
     "data": {
      "text/plain": [
       "[<a class=\"champ\" href=\"https://namu.wiki/w/샤코(리그%20오브%20레전드)\" id=\"link1\">샤코</a>,\n",
       " <a class=\"champ\" href=\"https://namu.wiki/w/뽀삐(리그%20오브%20레전드)\" id=\"link2\">뽀삐</a>,\n",
       " <a class=\"champ\" href=\"https://namu.wiki/w/트런들(리그%20오브%20레전드)\" id=\"link3\">트런들</a>]"
      ]
     },
     "execution_count": 63,
     "metadata": {},
     "output_type": "execute_result"
    }
   ],
   "source": [
    "# 시작문자열\n",
    "soup.select('[href^=\"http\"]')"
   ]
  },
  {
   "cell_type": "code",
   "execution_count": 66,
   "metadata": {},
   "outputs": [
    {
     "data": {
      "text/plain": [
       "[<a class=\"champ\" href=\"https://namu.wiki/w/샤코(리그%20오브%20레전드)\" id=\"link1\">샤코</a>,\n",
       " <a class=\"champ\" href=\"https://namu.wiki/w/뽀삐(리그%20오브%20레전드)\" id=\"link2\">뽀삐</a>,\n",
       " <a class=\"champ\" href=\"https://namu.wiki/w/트런들(리그%20오브%20레전드)\" id=\"link3\">트런들</a>]"
      ]
     },
     "execution_count": 66,
     "metadata": {},
     "output_type": "execute_result"
    }
   ],
   "source": [
    "# 종료문자열\n",
    "soup.select('[href$=\")\"]')"
   ]
  },
  {
   "cell_type": "code",
   "execution_count": 70,
   "metadata": {},
   "outputs": [
    {
     "data": {
      "text/plain": [
       "[<a class=\"champ\" href=\"https://namu.wiki/w/샤코(리그%20오브%20레전드)\" id=\"link1\">샤코</a>,\n",
       " <a class=\"champ\" href=\"https://namu.wiki/w/뽀삐(리그%20오브%20레전드)\" id=\"link2\">뽀삐</a>,\n",
       " <a class=\"champ\" href=\"https://namu.wiki/w/트런들(리그%20오브%20레전드)\" id=\"link3\">트런들</a>]"
      ]
     },
     "execution_count": 70,
     "metadata": {},
     "output_type": "execute_result"
    }
   ],
   "source": [
    "# 포함문자열\n",
    "soup.select('[href*=\"namu\"]')"
   ]
  },
  {
   "cell_type": "code",
   "execution_count": null,
   "metadata": {},
   "outputs": [],
   "source": []
  }
 ],
 "metadata": {
  "kernelspec": {
   "display_name": "Python 3",
   "language": "python",
   "name": "python3"
  },
  "language_info": {
   "codemirror_mode": {
    "name": "ipython",
    "version": 3
   },
   "file_extension": ".py",
   "mimetype": "text/x-python",
   "name": "python",
   "nbconvert_exporter": "python",
   "pygments_lexer": "ipython3",
   "version": "3.8.8"
  }
 },
 "nbformat": 4,
 "nbformat_minor": 4
}
