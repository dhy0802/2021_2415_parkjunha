{
 "cells": [
  {
   "cell_type": "markdown",
   "metadata": {},
   "source": [
    "# 2. Open API 활용"
   ]
  },
  {
   "cell_type": "markdown",
   "metadata": {},
   "source": [
    "### 공공데이터 포털사이트 사용하기\n",
    "1. 공공데이터 포털사이트 회원가입/로그인 \n",
    "2. 데이터 검색\n",
    "3. API 사용 요청, 키 발급\n",
    "4. API 매뉴얼 확인\n",
    "5. API 연동 개발 및 테스트"
   ]
  },
  {
   "cell_type": "code",
   "execution_count": 1,
   "metadata": {},
   "outputs": [],
   "source": [
    "import requests\n",
    "import xmltodict"
   ]
  },
  {
   "cell_type": "markdown",
   "metadata": {},
   "source": [
    "\n",
    "### 보건복지부 - 코로나 19 감염현황조회서비스(XML)"
   ]
  },
  {
   "cell_type": "code",
   "execution_count": 2,
   "metadata": {},
   "outputs": [
    {
     "data": {
      "text/plain": [
       "'http://openapi.data.go.kr/openapi/service/rest/Covid19/getCovid19InfStateJson?serviceKey=7PkCtZVnKSDI%2BMc4iNiOu%2B0RTpLnRtHbmR52PF9yt8wVKlJOEJ4Yomdfw%2BsvoYRcow3dMaIK%2B0HWigjaKh8ZoQ%3D%3D&pageNo=1&numOfRows=10&startCreateDt=20210601&endCreateDt=20210816'"
      ]
     },
     "execution_count": 2,
     "metadata": {},
     "output_type": "execute_result"
    }
   ],
   "source": [
    "serviceKey = '7PkCtZVnKSDI%2BMc4iNiOu%2B0RTpLnRtHbmR52PF9yt8wVKlJOEJ4Yomdfw%2BsvoYRcow3dMaIK%2B0HWigjaKh8ZoQ%3D%3D'\n",
    "\n",
    "url = 'http://openapi.data.go.kr/openapi/service/rest/Covid19/getCovid19InfStateJson?serviceKey={}&pageNo=1&numOfRows=10&startCreateDt=20210601&endCreateDt=20210816'.format(serviceKey)\n",
    "url"
   ]
  },
  {
   "cell_type": "code",
   "execution_count": 3,
   "metadata": {},
   "outputs": [
    {
     "data": {
      "text/plain": [
       "<Response [200]>"
      ]
     },
     "execution_count": 3,
     "metadata": {},
     "output_type": "execute_result"
    }
   ],
   "source": [
    "res=requests.get(url)\n",
    "res"
   ]
  },
  {
   "cell_type": "code",
   "execution_count": 4,
   "metadata": {},
   "outputs": [
    {
     "data": {
      "text/plain": [
       "'<?xml version=\"1.0\" encoding=\"UTF-8\" standalone=\"yes\"?><response><header><resultCode>00</resultCode>'"
      ]
     },
     "execution_count": 4,
     "metadata": {},
     "output_type": "execute_result"
    }
   ],
   "source": [
    "res.text[:100]"
   ]
  },
  {
   "cell_type": "code",
   "execution_count": 5,
   "metadata": {},
   "outputs": [
    {
     "data": {
      "text/plain": [
       "collections.OrderedDict"
      ]
     },
     "execution_count": 5,
     "metadata": {},
     "output_type": "execute_result"
    }
   ],
   "source": [
    "temp=xmltodict.parse(res.text)\n",
    "type(temp)"
   ]
  },
  {
   "cell_type": "code",
   "execution_count": 6,
   "metadata": {},
   "outputs": [],
   "source": [
    "import json\n",
    "result = json.loads(json.dumps(temp)) # dumps : ordereddict -> string // loads string -> dict\n",
    "#result"
   ]
  },
  {
   "cell_type": "code",
   "execution_count": 7,
   "metadata": {},
   "outputs": [],
   "source": [
    "import pandas as pd\n",
    "# 숙제\n",
    "# STATE_DT(기준일)\n",
    "# DECIDE_CNT(확진자수)\n",
    "# CLEAR_CNT(격리해제수)\n",
    "# DEATH_CNT(사망자수)\n",
    "# CARE_CNT(치료자수)\n",
    "state = list()\n",
    "decide = list()\n",
    "clear = list()\n",
    "death = list()\n",
    "care = list()\n",
    "for i in result['response']['body']['items']['item'] :\n",
    "    state.append(i['stateDt'])\n",
    "    decide.append(i['decideCnt'])\n",
    "    clear.append(i['clearCnt'])\n",
    "    death.append(i['deathCnt'])\n",
    "    care.append(i['careCnt'])"
   ]
  },
  {
   "cell_type": "code",
   "execution_count": 8,
   "metadata": {},
   "outputs": [
    {
     "data": {
      "text/html": [
       "<div>\n",
       "<style scoped>\n",
       "    .dataframe tbody tr th:only-of-type {\n",
       "        vertical-align: middle;\n",
       "    }\n",
       "\n",
       "    .dataframe tbody tr th {\n",
       "        vertical-align: top;\n",
       "    }\n",
       "\n",
       "    .dataframe thead th {\n",
       "        text-align: right;\n",
       "    }\n",
       "</style>\n",
       "<table border=\"1\" class=\"dataframe\">\n",
       "  <thead>\n",
       "    <tr style=\"text-align: right;\">\n",
       "      <th></th>\n",
       "      <th>기준일</th>\n",
       "      <th>확진자수</th>\n",
       "      <th>격리해제수</th>\n",
       "      <th>사망자수</th>\n",
       "      <th>치료자수</th>\n",
       "    </tr>\n",
       "  </thead>\n",
       "  <tbody>\n",
       "    <tr>\n",
       "      <th>0</th>\n",
       "      <td>20210816</td>\n",
       "      <td>225474</td>\n",
       "      <td>196198</td>\n",
       "      <td>2167</td>\n",
       "      <td>27109</td>\n",
       "    </tr>\n",
       "    <tr>\n",
       "      <th>1</th>\n",
       "      <td>20210815</td>\n",
       "      <td>223919</td>\n",
       "      <td>195103</td>\n",
       "      <td>2156</td>\n",
       "      <td>26660</td>\n",
       "    </tr>\n",
       "    <tr>\n",
       "      <th>2</th>\n",
       "      <td>20210814</td>\n",
       "      <td>222103</td>\n",
       "      <td>193778</td>\n",
       "      <td>2148</td>\n",
       "      <td>26177</td>\n",
       "    </tr>\n",
       "    <tr>\n",
       "      <th>3</th>\n",
       "      <td>20210813</td>\n",
       "      <td>220175</td>\n",
       "      <td>192248</td>\n",
       "      <td>2144</td>\n",
       "      <td>25783</td>\n",
       "    </tr>\n",
       "    <tr>\n",
       "      <th>4</th>\n",
       "      <td>20210812</td>\n",
       "      <td>218186</td>\n",
       "      <td>190536</td>\n",
       "      <td>2138</td>\n",
       "      <td>25512</td>\n",
       "    </tr>\n",
       "    <tr>\n",
       "      <th>...</th>\n",
       "      <td>...</td>\n",
       "      <td>...</td>\n",
       "      <td>...</td>\n",
       "      <td>...</td>\n",
       "      <td>...</td>\n",
       "    </tr>\n",
       "    <tr>\n",
       "      <th>72</th>\n",
       "      <td>20210605</td>\n",
       "      <td>143593</td>\n",
       "      <td>133766</td>\n",
       "      <td>1971</td>\n",
       "      <td>7856</td>\n",
       "    </tr>\n",
       "    <tr>\n",
       "      <th>73</th>\n",
       "      <td>20210604</td>\n",
       "      <td>142849</td>\n",
       "      <td>133287</td>\n",
       "      <td>1969</td>\n",
       "      <td>7593</td>\n",
       "    </tr>\n",
       "    <tr>\n",
       "      <th>74</th>\n",
       "      <td>20210603</td>\n",
       "      <td>142154</td>\n",
       "      <td>132697</td>\n",
       "      <td>1968</td>\n",
       "      <td>7489</td>\n",
       "    </tr>\n",
       "    <tr>\n",
       "      <th>75</th>\n",
       "      <td>20210602</td>\n",
       "      <td>141473</td>\n",
       "      <td>132067</td>\n",
       "      <td>1965</td>\n",
       "      <td>7441</td>\n",
       "    </tr>\n",
       "    <tr>\n",
       "      <th>76</th>\n",
       "      <td>20210601</td>\n",
       "      <td>140796</td>\n",
       "      <td>131463</td>\n",
       "      <td>1963</td>\n",
       "      <td>7370</td>\n",
       "    </tr>\n",
       "  </tbody>\n",
       "</table>\n",
       "<p>77 rows × 5 columns</p>\n",
       "</div>"
      ],
      "text/plain": [
       "         기준일    확진자수   격리해제수  사망자수   치료자수\n",
       "0   20210816  225474  196198  2167  27109\n",
       "1   20210815  223919  195103  2156  26660\n",
       "2   20210814  222103  193778  2148  26177\n",
       "3   20210813  220175  192248  2144  25783\n",
       "4   20210812  218186  190536  2138  25512\n",
       "..       ...     ...     ...   ...    ...\n",
       "72  20210605  143593  133766  1971   7856\n",
       "73  20210604  142849  133287  1969   7593\n",
       "74  20210603  142154  132697  1968   7489\n",
       "75  20210602  141473  132067  1965   7441\n",
       "76  20210601  140796  131463  1963   7370\n",
       "\n",
       "[77 rows x 5 columns]"
      ]
     },
     "execution_count": 8,
     "metadata": {},
     "output_type": "execute_result"
    }
   ],
   "source": [
    "df_data = {\n",
    "    '기준일': state,\n",
    "    '확진자수' : decide,\n",
    "    '격리해제수' : clear,\n",
    "    '사망자수' : death,\n",
    "    '치료자수' : care\n",
    "}\n",
    "df = pd.DataFrame(df_data)\n",
    "\n",
    "df"
   ]
  },
  {
   "cell_type": "markdown",
   "metadata": {},
   "source": [
    "### 한국 관광 공사 - 관광정보서비스\n"
   ]
  },
  {
   "cell_type": "code",
   "execution_count": 9,
   "metadata": {},
   "outputs": [
    {
     "data": {
      "text/plain": [
       "'http://api.visitkorea.or.kr/openapi/service/rest/KorService/areaCode?ServiceKey=7PkCtZVnKSDI%2BMc4iNiOu%2B0RTpLnRtHbmR52PF9yt8wVKlJOEJ4Yomdfw%2BsvoYRcow3dMaIK%2B0HWigjaKh8ZoQ%3D%3D&numOfRows=10&pageNo=1&MobileOS=ETC&MobileApp=TestApp&_type=json'"
      ]
     },
     "execution_count": 9,
     "metadata": {},
     "output_type": "execute_result"
    }
   ],
   "source": [
    "url = 'http://api.visitkorea.or.kr/openapi/service/rest/KorService/areaCode?ServiceKey={}&numOfRows=10&pageNo=1&MobileOS=ETC&MobileApp=TestApp&_type=json'.format(serviceKey)\n",
    "url"
   ]
  },
  {
   "cell_type": "code",
   "execution_count": 10,
   "metadata": {},
   "outputs": [
    {
     "data": {
      "text/plain": [
       "<Response [200]>"
      ]
     },
     "execution_count": 10,
     "metadata": {},
     "output_type": "execute_result"
    }
   ],
   "source": [
    "res = requests.get(url)\n",
    "res"
   ]
  },
  {
   "cell_type": "code",
   "execution_count": 11,
   "metadata": {},
   "outputs": [
    {
     "data": {
      "text/plain": [
       "'{\"response\":{\"header\":{\"resultCode\":\"0000\",\"resultMsg\":\"OK\"},\"body\":{\"items\":{\"item\":[{\"code\":1,\"name\":\"서울\",\"rnum\":1},{\"code\":2,\"name\":\"인천\",\"rnum\":2},{\"code\":3,\"name\":\"대전\",\"rnum\":3},{\"code\":4,\"name\":\"대구\",\"rnum\":4},{\"code\":5,\"name\":\"광주\",\"rnum\":5},{\"code\":6,\"name\":\"부산\",\"rnum\":6},{\"code\":7,\"name\":\"울산\",\"rnum\":7},{\"code\":8,\"name\":\"세종특별자치시\",\"rnum\":8},{\"code\":31,\"name\":\"경기도\",\"rnum\":9},{\"code\":32,\"name\":\"강원도\",\"rnum\":10}]},\"numOfRows\":10,\"pageNo\":1,\"totalCount\":17}}}'"
      ]
     },
     "execution_count": 11,
     "metadata": {},
     "output_type": "execute_result"
    }
   ],
   "source": [
    "res.text"
   ]
  },
  {
   "cell_type": "code",
   "execution_count": 12,
   "metadata": {},
   "outputs": [
    {
     "data": {
      "text/plain": [
       "{'response': {'header': {'resultCode': '0000', 'resultMsg': 'OK'},\n",
       "  'body': {'items': {'item': [{'code': 1, 'name': '서울', 'rnum': 1},\n",
       "     {'code': 2, 'name': '인천', 'rnum': 2},\n",
       "     {'code': 3, 'name': '대전', 'rnum': 3},\n",
       "     {'code': 4, 'name': '대구', 'rnum': 4},\n",
       "     {'code': 5, 'name': '광주', 'rnum': 5},\n",
       "     {'code': 6, 'name': '부산', 'rnum': 6},\n",
       "     {'code': 7, 'name': '울산', 'rnum': 7},\n",
       "     {'code': 8, 'name': '세종특별자치시', 'rnum': 8},\n",
       "     {'code': 31, 'name': '경기도', 'rnum': 9},\n",
       "     {'code': 32, 'name': '강원도', 'rnum': 10}]},\n",
       "   'numOfRows': 10,\n",
       "   'pageNo': 1,\n",
       "   'totalCount': 17}}}"
      ]
     },
     "execution_count": 12,
     "metadata": {},
     "output_type": "execute_result"
    }
   ],
   "source": [
    "data = res.json()\n",
    "data"
   ]
  },
  {
   "cell_type": "code",
   "execution_count": 13,
   "metadata": {},
   "outputs": [
    {
     "data": {
      "text/plain": [
       "(10, 17)"
      ]
     },
     "execution_count": 13,
     "metadata": {},
     "output_type": "execute_result"
    }
   ],
   "source": [
    "numOfRows = data['response']['body']['numOfRows']\n",
    "totalCount = data['response']['body']['totalCount']\n",
    "numOfRows, totalCount"
   ]
  },
  {
   "cell_type": "code",
   "execution_count": 14,
   "metadata": {},
   "outputs": [
    {
     "data": {
      "text/plain": [
       "2"
      ]
     },
     "execution_count": 14,
     "metadata": {},
     "output_type": "execute_result"
    }
   ],
   "source": [
    "queryCount = totalCount // numOfRows\n",
    "\n",
    "if totalCount % numOfRows > 0:\n",
    "    queryCount += 1\n",
    "\n",
    "queryCount"
   ]
  },
  {
   "cell_type": "code",
   "execution_count": 15,
   "metadata": {},
   "outputs": [
    {
     "data": {
      "text/plain": [
       "['서울',\n",
       " '인천',\n",
       " '대전',\n",
       " '대구',\n",
       " '광주',\n",
       " '부산',\n",
       " '울산',\n",
       " '세종특별자치시',\n",
       " '경기도',\n",
       " '강원도',\n",
       " '서울',\n",
       " '인천',\n",
       " '대전',\n",
       " '대구',\n",
       " '광주',\n",
       " '부산',\n",
       " '울산',\n",
       " '세종특별자치시',\n",
       " '경기도',\n",
       " '강원도']"
      ]
     },
     "execution_count": 15,
     "metadata": {},
     "output_type": "execute_result"
    }
   ],
   "source": [
    "code = []\n",
    "name = []\n",
    "rnum = []\n",
    "\n",
    "for i in range(queryCount):\n",
    "    pageNo = i + 1\n",
    "    url = 'http://api.visitkorea.or.kr/openapi/service/rest/KorService/areaCode?ServiceKey={}&numOfRows=10&pageNo={}&MobileOS=ETC&MobileApp=TestApp&_type=json'.format(serviceKey, pageNo)\n",
    "    requests.get(url)\n",
    "    data = res.json()\n",
    "    \n",
    "    items = data['response']['body']['items']['item']\n",
    "    \n",
    "    for item in items:\n",
    "        code.append(item['code'])\n",
    "        name.append(item['name'])\n",
    "        rnum.append(item['rnum'])\n",
    "        \n",
    "\n",
    "name"
   ]
  },
  {
   "cell_type": "code",
   "execution_count": 16,
   "metadata": {},
   "outputs": [
    {
     "ename": "SyntaxError",
     "evalue": "invalid syntax (<ipython-input-16-8e41369123d8>, line 2)",
     "output_type": "error",
     "traceback": [
      "\u001b[1;36m  File \u001b[1;32m\"<ipython-input-16-8e41369123d8>\"\u001b[1;36m, line \u001b[1;32m2\u001b[0m\n\u001b[1;33m    'code' = code,\u001b[0m\n\u001b[1;37m           ^\u001b[0m\n\u001b[1;31mSyntaxError\u001b[0m\u001b[1;31m:\u001b[0m invalid syntax\n"
     ]
    }
   ],
   "source": [
    "df_data = {\n",
    "    'code' = code,\n",
    "    'name' = name,\n",
    "    'rnum' = rnum\n",
    "}\n",
    "\n",
    "df = pd.DataFrame(data= df_data)\n",
    "df"
   ]
  }
 ],
 "metadata": {
  "kernelspec": {
   "display_name": "Python 3",
   "language": "python",
   "name": "python3"
  },
  "language_info": {
   "codemirror_mode": {
    "name": "ipython",
    "version": 3
   },
   "file_extension": ".py",
   "mimetype": "text/x-python",
   "name": "python",
   "nbconvert_exporter": "python",
   "pygments_lexer": "ipython3",
   "version": "3.8.8"
  }
 },
 "nbformat": 4,
 "nbformat_minor": 4
}
